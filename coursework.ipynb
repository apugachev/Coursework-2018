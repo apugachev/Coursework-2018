{
 "cells": [
  {
   "cell_type": "code",
   "execution_count": 338,
   "metadata": {},
   "outputs": [],
   "source": [
    "import numpy as np\n",
    "from tqdm import tqdm\n",
    "from scipy.spatial import distance\n",
    "import matplotlib.pyplot as plt\n",
    "import matplotlib.animation as animation\n",
    "from scipy.sparse import csgraph\n",
    "import scipy.stats.stats as st\n",
    "from tqdm import tqdm\n",
    "import math\n",
    "from matplotlib.backends.backend_pdf import PdfPages\n",
    "%matplotlib inline"
   ]
  },
  {
   "cell_type": "markdown",
   "metadata": {},
   "source": [
    "<center><h1>Experiment 1</h1></center>"
   ]
  },
  {
   "cell_type": "code",
   "execution_count": 7,
   "metadata": {},
   "outputs": [],
   "source": [
    "def DotsCoordinates(n, k, a):\n",
    "    \n",
    "    '''\n",
    "    n - размерность пространства\n",
    "    k - количество точек\n",
    "    a - длина ребра гиперкуба\n",
    "    \n",
    "    Возвращает матрицу, в которой построчно записаны координаты точек\n",
    "    '''\n",
    "    \n",
    "    result = np.zeros((k,n))\n",
    "    for i in range(k):\n",
    "        result[i] = np.random.uniform(0,a,n)\n",
    "        \n",
    "    return result"
   ]
  },
  {
   "cell_type": "code",
   "execution_count": 8,
   "metadata": {},
   "outputs": [],
   "source": [
    "def EuclidMatrix(coord_matrix):\n",
    "    \n",
    "    '''\n",
    "    coord_matrix - матрица с координатами точек (ее возвращает DotsCoordinates)\n",
    "    \n",
    "    Возвращает матрицу, в ячейке [i,j] которой записано евклидово расстояние между i-й и j-й точками матрицы coord_matrix\n",
    "    '''\n",
    "    \n",
    "    result = np.zeros((len(coord_matrix), len(coord_matrix)))\n",
    "    for i in range(len(result)):\n",
    "        for j in range(len(result)):\n",
    "            result[i,j] = distance.euclidean(coord_matrix[i], coord_matrix[j])\n",
    "            \n",
    "    return result"
   ]
  },
  {
   "cell_type": "code",
   "execution_count": 9,
   "metadata": {},
   "outputs": [],
   "source": [
    "def CreateAdjMatrix(euclid_matrix, eps):\n",
    "    \n",
    "    '''\n",
    "    euclid_matrix - матрица евклидовых расстояний между всеми точками пространства\n",
    "    eps - значение параметра epsilon\n",
    "    \n",
    "    Возвращает матрицу смежности графа, в котором i-й и j-й узлы соединены ребрами \n",
    "    если евклидовое расстояние между ними меньше epsilon\n",
    "    '''\n",
    "    \n",
    "    result = np.zeros((len(euclid_matrix), len(euclid_matrix)))\n",
    "    connected_dots = list(zip(*np.where(euclid_matrix <= eps)))\n",
    "    for j in range(len(connected_dots)):\n",
    "        result[connected_dots[j][0]][connected_dots[j][1]] = 1\n",
    "        \n",
    "    return result\n",
    "    "
   ]
  },
  {
   "cell_type": "code",
   "execution_count": 10,
   "metadata": {},
   "outputs": [],
   "source": [
    "def Compute(n, k, a, eps_min, eps_max, steps, show_graph=False, pdf_export=False):\n",
    "    \n",
    "    '''\n",
    "    n - размерность пространства\n",
    "    k - количество точек\n",
    "    a - длина ребра гиперкуба\n",
    "    eps_min - минимальное значение eps\n",
    "    eps_max - максимальное значение eps\n",
    "    steps - количество итераций от eps_min до eps_max\n",
    "    show_graph - True, если необходимо построить график зависимости количества кластеров от значения epsilon, False иначе\n",
    "    pdf_export - True, если необходимо экспортировать график в PDF\n",
    "    \n",
    "    Возвращает значение epsilon, при котором образуется кластер\n",
    "    '''\n",
    "    \n",
    "    matrix = DotsCoordinates(n, k, a)\n",
    "    euclid_matrix = EuclidMatrix(matrix)\n",
    "    components_num = np.array([])\n",
    "    flag = False\n",
    "    epsilons = np.arange(eps_min, eps_max, (eps_max - eps_min)/steps)\n",
    "    for i in range(steps):\n",
    "        adj_matrix = CreateAdjMatrix(euclid_matrix, epsilons[i])\n",
    "        components = csgraph.connected_components(csgraph=adj_matrix, directed=False, return_labels=False)\n",
    "        components_num = np.append(components_num, components)\n",
    "        if (components == 1 and flag == False):\n",
    "            one_component_x = epsilons[i]\n",
    "            one_component_y = components\n",
    "            flag = True\n",
    "            if flag:\n",
    "                new_eps = one_component_x\n",
    "            \n",
    "    \n",
    "    if not flag:\n",
    "        new_eps = None\n",
    "    \n",
    "    if show_graph:\n",
    "        fig = plt.figure(figsize=(15,8))\n",
    "        plt.plot(epsilons, components_num)\n",
    "        plt.title('Зависимость количества кластеров от значения $\\epsilon$', size=15)\n",
    "        plt.ylabel('Количество кластеров', size=13)\n",
    "        plt.xlabel('Значение $\\epsilon$', size=13)\n",
    "        plt.scatter(one_component_x, one_component_y, c='red', marker='o')\n",
    "        plt.legend()\n",
    "        plt.grid()\n",
    "        plt.show()\n",
    "\n",
    "    if pdf_export:\n",
    "        pp = PdfPages('Graph.pdf')\n",
    "        pp.savefig(fig)\n",
    "        pp.close()\n",
    "    \n",
    "    return new_eps"
   ]
  },
  {
   "cell_type": "code",
   "execution_count": 130,
   "metadata": {},
   "outputs": [
    {
     "name": "stderr",
     "output_type": "stream",
     "text": [
      "100%|████████████████████████████████████████| 500/500 [21:46<00:00,  2.61s/it]\n"
     ]
    }
   ],
   "source": [
    "epsilons = np.array([])\n",
    "\n",
    "for i in tqdm(range(500)):\n",
    "    epsilons = np.append(epsilons, (Compute(100, 100, 1, 3.6, 4, 1000, False, False)))"
   ]
  },
  {
   "cell_type": "code",
   "execution_count": 131,
   "metadata": {},
   "outputs": [
    {
     "name": "stdout",
     "output_type": "stream",
     "text": [
      "Mean = 3.800525851703386\n",
      "Standart deviation = 0.0504842747499\n",
      "Variance = 0.002548661997019528\n"
     ]
    }
   ],
   "source": [
    "epsilons_none = epsilons[epsilons != None]\n",
    "mean = np.mean(epsilons_none)\n",
    "std = np.std(epsilons_none)\n",
    "var = np.var(epsilons_none)\n",
    "print('Mean =', mean)\n",
    "print('Standart deviation =', std)\n",
    "print('Variance =', var)"
   ]
  },
  {
   "cell_type": "code",
   "execution_count": 41,
   "metadata": {},
   "outputs": [
    {
     "name": "stderr",
     "output_type": "stream",
     "text": [
      "100%|████████████████████████████████████████| 500/500 [18:46<00:00,  2.25s/it]\n"
     ]
    }
   ],
   "source": [
    "epsilons2 = np.array([])\n",
    "\n",
    "for i in tqdm(range(500)):\n",
    "    epsilons2 = np.append(epsilons2, (Compute(200, 100, 1, 5.4, 5.6, 1000, False, False)))"
   ]
  },
  {
   "cell_type": "code",
   "execution_count": 42,
   "metadata": {},
   "outputs": [
    {
     "name": "stdout",
     "output_type": "stream",
     "text": [
      "Mean = 5.497198315789678\n",
      "Standart deviation = 0.0426581712702\n",
      "Variance = 0.0018197195761184843\n"
     ]
    }
   ],
   "source": [
    "epsilons_none2 = epsilons2[epsilons2 != None]\n",
    "mean2 = np.mean(epsilons_none2)\n",
    "std2 = np.std(epsilons_none2)\n",
    "var2 = np.var(epsilons_none2)\n",
    "print('Mean =', mean2)\n",
    "print('Standart deviation =', std2)\n",
    "print('Variance =', var2)"
   ]
  },
  {
   "cell_type": "code",
   "execution_count": 56,
   "metadata": {},
   "outputs": [
    {
     "name": "stderr",
     "output_type": "stream",
     "text": [
      "100%|████████████████████████████████████████| 500/500 [18:42<00:00,  2.24s/it]\n"
     ]
    }
   ],
   "source": [
    "epsilons3 = np.array([])\n",
    "\n",
    "for i in tqdm(range(500)):\n",
    "    epsilons3 = np.append(epsilons3, (Compute(200, 100, 3, 16, 17, 1000, False, False)))"
   ]
  },
  {
   "cell_type": "code",
   "execution_count": 57,
   "metadata": {},
   "outputs": [
    {
     "name": "stdout",
     "output_type": "stream",
     "text": [
      "Mean = 16.50936\n",
      "Standart deviation = 0.146770304899\n",
      "Variance = 0.0215415224001\n"
     ]
    }
   ],
   "source": [
    "epsilons_none3 = epsilons3[epsilons3 != None]\n",
    "mean3 = np.mean(epsilons_none3)\n",
    "std3 = np.std(epsilons_none3)\n",
    "var3 = np.var(epsilons_none3)\n",
    "print('Mean =', mean3)\n",
    "print('Standart deviation =', std3)\n",
    "print('Variance =', var3)"
   ]
  },
  {
   "cell_type": "code",
   "execution_count": 132,
   "metadata": {},
   "outputs": [
    {
     "name": "stdout",
     "output_type": "stream",
     "text": [
      "Отношение среднего значения eps к длине диагонали\n",
      "Первый эксперимент: 0.3800525851703386\n",
      "Второй эксперимент: 0.3887106206622149\n",
      "Третий эксперимент: 0.389129346968\n"
     ]
    }
   ],
   "source": [
    "print('Отношение среднего значения eps к длине диагонали')\n",
    "print('Первый эксперимент:', mean / (1 * math.sqrt(100)))\n",
    "print('Второй эксперимент:', mean2 / (1 * math.sqrt(200)))\n",
    "print('Третий эксперимент:', mean3 / (3 * math.sqrt(200)))"
   ]
  },
  {
   "cell_type": "markdown",
   "metadata": {},
   "source": [
    "<center><h1>Experiment 2</h1></center>"
   ]
  },
  {
   "cell_type": "code",
   "execution_count": 116,
   "metadata": {},
   "outputs": [],
   "source": [
    "def Compute2(n, k, a, eps_min, eps_max, steps, show_graph=False, pdf_export=False):\n",
    "    \n",
    "    '''\n",
    "    n - размерность пространства\n",
    "    k - количество точек\n",
    "    a - длина ребра гиперкуба\n",
    "    eps_min - минимальное значение eps\n",
    "    eps_max - максимальное значение eps\n",
    "    steps - количество итераций от eps_min до eps_max\n",
    "    show_graph - True, если необходимо построить график зависимости количества кластеров от значения epsilon, False иначе\n",
    "    pdf_export - True, если необходимо экспортировать график в PDF\n",
    "    \n",
    "    Возвращает \n",
    "    \n",
    "    start_eps - значение epsilon, при котором граф имеет k-1 компоненту связности \n",
    "    fin_eps - значение epsilon, при котором образуется кластер\n",
    "    '''\n",
    "    \n",
    "    matrix = DotsCoordinates(n, k, a)\n",
    "    euclid_matrix = EuclidMatrix(matrix)\n",
    "    components_num = np.array([])\n",
    "    flag1 = False\n",
    "    flag2 = False\n",
    "    epsilons = np.arange(eps_min, eps_max, (eps_max - eps_min)/steps)\n",
    "    for i in range(steps):\n",
    "        adj_matrix = CreateAdjMatrix(euclid_matrix, epsilons[i])\n",
    "        components = csgraph.connected_components(csgraph=adj_matrix, directed=False, return_labels=False)\n",
    "        components_num = np.append(components_num, components)\n",
    "        if (components < k and flag1 == False):\n",
    "            start_eps = epsilons[i]\n",
    "            start_components = components\n",
    "            flag1 = True\n",
    "            \n",
    "        if (components == 1 and flag2 == False):\n",
    "            one_component_x = epsilons[i]\n",
    "            one_component_y = components\n",
    "            flag2 = True\n",
    "            fin_eps = one_component_x\n",
    "            \n",
    "    \n",
    "    if not flag1:\n",
    "        start_eps = None\n",
    "    if not flag2:\n",
    "        fin_eps = None\n",
    "    \n",
    "    if show_graph:\n",
    "        fig = plt.figure(figsize=(15,8))\n",
    "        plt.plot(epsilons, components_num)\n",
    "        plt.title('Зависимость количества кластеров от значения $\\epsilon$', size=15)\n",
    "        plt.ylabel('Количество кластеров', size=13)\n",
    "        plt.xlabel('Значение $\\epsilon$', size=13)\n",
    "        plt.scatter(start_eps, start_components, c='red', marker='o')\n",
    "        plt.scatter(fin_eps, one_component_y, c='red', marker='o')\n",
    "        plt.axvline(x=start_eps, color='tomato', linestyle='--')\n",
    "        plt.axvline(x=fin_eps, color='tomato', linestyle='--')\n",
    "        plt.legend()\n",
    "        plt.grid()\n",
    "        plt.show()\n",
    "\n",
    "    if pdf_export:\n",
    "        pp = PdfPages('Graph.pdf')\n",
    "        pp.savefig(fig)\n",
    "        pp.close()\n",
    "    \n",
    "    return start_eps, fin_eps"
   ]
  },
  {
   "cell_type": "code",
   "execution_count": 133,
   "metadata": {},
   "outputs": [
    {
     "data": {
      "image/png": "[encoded data removed]",
      "text/plain": [
       "<matplotlib.figure.Figure at 0x2b65847d048>"
      ]
     },
     "metadata": {},
     "output_type": "display_data"
    },
    {
     "data": {
      "text/plain": [
       "(3.081999999999991, 3.8559999999999057)"
      ]
     },
     "execution_count": 133,
     "metadata": {},
     "output_type": "execute_result"
    }
   ],
   "source": [
    "Compute2(100, 100, 1, 3, 4, 1000, True, False)"
   ]
  },
  {
   "cell_type": "code",
   "execution_count": 121,
   "metadata": {},
   "outputs": [
    {
     "name": "stderr",
     "output_type": "stream",
     "text": [
      "\n",
      "  0%|                                                  | 0/500 [00:00<?, ?it/s]\n",
      "Exception in thread Thread-9:\n",
      "Traceback (most recent call last):\n",
      "  File \"c:\\users\\asus\\appdata\\local\\programs\\python\\python36\\lib\\threading.py\", line 916, in _bootstrap_inner\n",
      "    self.run()\n",
      "  File \"c:\\users\\asus\\appdata\\local\\programs\\python\\python36\\lib\\site-packages\\tqdm\\_tqdm.py\", line 144, in run\n",
      "    for instance in self.tqdm_cls._instances:\n",
      "  File \"c:\\users\\asus\\appdata\\local\\programs\\python\\python36\\lib\\_weakrefset.py\", line 60, in __iter__\n",
      "    for itemref in self.data:\n",
      "RuntimeError: Set changed size during iteration\n",
      "\n",
      "100%|████████████████████████████████████████| 500/500 [14:45<00:00,  1.77s/it]\n"
     ]
    }
   ],
   "source": [
    "diff_epsilons = np.array([])\n",
    "\n",
    "for i in tqdm(range(500)):\n",
    "    tuples = Compute2(100, 100, 1, 3, 4, 1000, False, False)\n",
    "    diff_epsilons = np.append(diff_epsilons, tuples[1] - tuples[0])"
   ]
  },
  {
   "cell_type": "code",
   "execution_count": 124,
   "metadata": {},
   "outputs": [
    {
     "name": "stdout",
     "output_type": "stream",
     "text": [
      "Mean = 0.619036\n",
      "Standart deviation = 0.0864930442521\n",
      "Variance = 0.007481046704\n"
     ]
    }
   ],
   "source": [
    "diff_epsilons_none = diff_epsilons[diff_epsilons != None]\n",
    "mean4 = np.mean(diff_epsilons_none)\n",
    "std4 = np.std(diff_epsilons_none)\n",
    "var4 = np.var(diff_epsilons_none)\n",
    "print('Mean =', mean4)\n",
    "print('Standart deviation =', std4)\n",
    "print('Variance =', var4)"
   ]
  },
  {
   "cell_type": "markdown",
   "metadata": {},
   "source": [
    "<center><h1>Experiment 3</h1></center>"
   ]
  },
  {
   "cell_type": "code",
   "execution_count": 186,
   "metadata": {},
   "outputs": [],
   "source": [
    "def Compute3(n, k, a, eps):\n",
    "    \n",
    "    '''\n",
    "    n - размерность пространства\n",
    "    k - количество точек\n",
    "    a - длина ребра гиперкуба\n",
    "    eps - значение параметра epsilon\n",
    "    \n",
    "    Возвращает True, если при заданных параметрах образуется смежный граф и False иначе\n",
    "    '''\n",
    "    \n",
    "    matrix = DotsCoordinates(n, k, a)\n",
    "    euclid_matrix = EuclidMatrix(matrix)\n",
    "    adj_matrix = CreateAdjMatrix(euclid_matrix, eps)\n",
    "    components = csgraph.connected_components(csgraph=adj_matrix, directed=False, return_labels=False)\n",
    "    if components == 1:\n",
    "        return True\n",
    "    \n",
    "    return False"
   ]
  },
  {
   "cell_type": "code",
   "execution_count": 175,
   "metadata": {},
   "outputs": [
    {
     "name": "stderr",
     "output_type": "stream",
     "text": [
      "100%|████████████████████████████████████████| 100/100 [36:29<00:00, 21.89s/it]\n"
     ]
    }
   ],
   "source": [
    "k_values = np.array([])\n",
    "for i in tqdm(range(100)):\n",
    "    for i in range(2,1000):\n",
    "        if Compute3(100, i, 1, 3.7):\n",
    "            k_values = np.append(k_values, i)\n",
    "            break"
   ]
  },
  {
   "cell_type": "code",
   "execution_count": 185,
   "metadata": {},
   "outputs": [
    {
     "name": "stdout",
     "output_type": "stream",
     "text": [
      "Bootstrap mean: 121.45548\n",
      "Bootstrap std: 52.2241438777\n",
      "Bootstrap var: 2761.7063032\n"
     ]
    }
   ],
   "source": [
    "mean_val = np.array([])\n",
    "std_val = np.array([])\n",
    "var_val = np.array([])\n",
    "\n",
    "for i in range(500):\n",
    "    subselection = np.random.choice(k_values, size=50)\n",
    "    mean_val = np.append(mean_val, np.mean(subselection))\n",
    "    std_val = np.append(std_val, np.std(subselection))\n",
    "    var_val = np.append(var_val, np.var(subselection))\n",
    "\n",
    "k_mean = np.mean(mean_val)\n",
    "k_std = np.mean(std_val)\n",
    "k_var = np.mean(var_val)\n",
    "\n",
    "print('Bootstrap mean:', k_mean)\n",
    "print('Bootstrap std:', k_std)\n",
    "print('Bootstrap var:', k_var)"
   ]
  },
  {
   "cell_type": "markdown",
   "metadata": {},
   "source": [
    "<center><h1>Experiment 4</h1></center>"
   ]
  },
  {
   "cell_type": "code",
   "execution_count": 189,
   "metadata": {},
   "outputs": [],
   "source": [
    "def Compute4(n, k, a, eps_min, eps_max, steps):\n",
    "    \n",
    "    '''\n",
    "    n - размерность пространства\n",
    "    k - количество точек\n",
    "    a - длина ребра гиперкуба\n",
    "    eps_min - минимальное значение eps\n",
    "    eps_max - максимальное значение eps\n",
    "    steps - количество итераций от eps_min до eps_max\n",
    "    show_graph - True, если необходимо построить график зависимости количества кластеров от значения epsilon, False иначе\n",
    "    pdf_export - True, если необходимо экспортировать график в PDF\n",
    "    \n",
    "    Возвращает значение epsilon, при котором образуется кластер\n",
    "    '''\n",
    "    \n",
    "    matrix = DotsCoordinates(n, k, a)\n",
    "    euclid_matrix = EuclidMatrix(matrix)\n",
    "    components_num = np.array([])\n",
    "    flag = False\n",
    "    epsilons = np.arange(eps_min, eps_max, (eps_max - eps_min)/steps)\n",
    "    for i in range(steps):\n",
    "        adj_matrix = CreateAdjMatrix(euclid_matrix, epsilons[i])\n",
    "        components = csgraph.connected_components(csgraph=adj_matrix, directed=False, return_labels=False)\n",
    "        components_num = np.append(components_num, components)\n",
    "        if (components == 1 and flag == False):\n",
    "            return adj_matrix\n",
    "            \n",
    "    \n",
    "    if not flag:\n",
    "        return None"
   ]
  },
  {
   "cell_type": "code",
   "execution_count": 199,
   "metadata": {
    "scrolled": true
   },
   "outputs": [
    {
     "name": "stderr",
     "output_type": "stream",
     "text": [
      "100%|████████████████████████████████████████| 500/500 [12:11<00:00,  1.46s/it]\n"
     ]
    }
   ],
   "source": [
    "matrices = []\n",
    "first = np.array([]) \n",
    "second = np.array([])\n",
    "\n",
    "for i in tqdm(range(500)):\n",
    "    new_matrix = Compute4(100, 100, 1, 3.6, 4, 1000)\n",
    "    eigenvalues = np.linalg.eigvals(new_matrix)\n",
    "    eigenvalues = np.sort(eigenvalues)\n",
    "    first = np.append(first, eigenvalues[-1])\n",
    "    second = np.append(second, eigenvalues[-2])\n"
   ]
  },
  {
   "cell_type": "code",
   "execution_count": 200,
   "metadata": {},
   "outputs": [
    {
     "name": "stdout",
     "output_type": "stream",
     "text": [
      "First eigenvalue mean: 19.5747260386\n",
      "First eigenvalue std: 5.11670941699\n",
      "First eigenvalue var: 26.1807152579\n",
      "\n",
      "\n",
      "Second eigenvalue mean: 8.40976618319\n",
      "Second eigenvalue std: 0.88430791969\n",
      "Second eigenvalue var: 0.782000496827\n"
     ]
    }
   ],
   "source": [
    "first_mean = np.mean(first)\n",
    "first_std = np.std(first)\n",
    "first_var = np.var(first)\n",
    "\n",
    "second_mean = np.mean(second)\n",
    "second_std = np.std(second)\n",
    "second_var = np.var(second)\n",
    "\n",
    "print('First eigenvalue mean:', first_mean)\n",
    "print('First eigenvalue std:', first_std)\n",
    "print('First eigenvalue var:', first_var)\n",
    "print('\\n')\n",
    "print('Second eigenvalue mean:', second_mean)\n",
    "print('Second eigenvalue std:', second_std)\n",
    "print('Second eigenvalue var:', second_var)"
   ]
  },
  {
   "cell_type": "markdown",
   "metadata": {},
   "source": [
    "<center><h1>Experiment 5</h1></center>"
   ]
  },
  {
   "cell_type": "code",
   "execution_count": 119,
   "metadata": {},
   "outputs": [
    {
     "data": {
      "image/png": "[encoded data removed]",
      "text/plain": [
       "<matplotlib.figure.Figure at 0x26b9b17c630>"
      ]
     },
     "metadata": {},
     "output_type": "display_data"
    }
   ],
   "source": [
    "n_values = np.arange(50,1050,50)\n",
    "diag_values = np.sqrt(n_values)\n",
    "\n",
    "eps_values = np.array([])\n",
    "\n",
    "for n in n_values:\n",
    "    eps_values = np.append(eps_values, Compute(n, 100, 1, 1*n/100, 20*n/100, 2000, False, False))\n",
    "\n",
    "fig = plt.figure(figsize=(15,8))\n",
    "plt.plot(diag_values, eps_values)\n",
    "plt.title('Зависимость значения $\\epsilon$ от длины диагонали', size=15)\n",
    "plt.xlabel('Длина диагонали', size=13)\n",
    "plt.ylabel('Значение $\\epsilon$', size=13)\n",
    "plt.legend()\n",
    "plt.grid()\n",
    "plt.show()"
   ]
  },
  {
   "cell_type": "code",
   "execution_count": 124,
   "metadata": {},
   "outputs": [
    {
     "data": {
      "image/png": "[encoded data removed]",
      "text/plain": [
       "<matplotlib.figure.Figure at 0x26b99ea0da0>"
      ]
     },
     "metadata": {},
     "output_type": "display_data"
    }
   ],
   "source": [
    "a_values = np.arange(1,21,1)\n",
    "diag_values = a_values*np.sqrt(100)\n",
    "\n",
    "eps_values = np.array([])\n",
    "\n",
    "for a in a_values:\n",
    "    test = Compute(100, 100, a, 1*a, 10*a, 1000, False, False)\n",
    "    eps_values = np.append(eps_values, test)\n",
    "\n",
    "fig = plt.figure(figsize=(15,8))\n",
    "plt.plot(diag_values, eps_values)\n",
    "plt.title('Зависимость значения $\\epsilon$ от длины диагонали', size=15)\n",
    "plt.xlabel('Длина диагонали', size=13)\n",
    "plt.ylabel('Значение $\\epsilon$', size=13)\n",
    "plt.legend()\n",
    "plt.grid()\n",
    "plt.show()"
   ]
  },
  {
   "cell_type": "markdown",
   "metadata": {},
   "source": [
    "<center><h1>Experiment 6</h1></center>"
   ]
  },
  {
   "cell_type": "code",
   "execution_count": null,
   "metadata": {},
   "outputs": [],
   "source": []
  }
 ],
 "metadata": {
  "kernelspec": {
   "display_name": "Python 3",
   "language": "python",
   "name": "python3"
  },
  "language_info": {
   "codemirror_mode": {
    "name": "ipython",
    "version": 3
   },
   "file_extension": ".py",
   "mimetype": "text/x-python",
   "name": "python",
   "nbconvert_exporter": "python",
   "pygments_lexer": "ipython3",
   "version": "3.6.3"
  }
 },
 "nbformat": 4,
 "nbformat_minor": 2
}
