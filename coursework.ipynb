{
 "cells": [
  {
   "cell_type": "code",
   "execution_count": 188,
   "metadata": {},
   "outputs": [],
   "source": [
    "import numpy as np\n",
    "from scipy.spatial import distance\n",
    "import matplotlib.pyplot as plt\n",
    "from scipy.sparse import csgraph\n",
    "from tqdm import tqdm"
   ]
  },
  {
   "cell_type": "code",
   "execution_count": 20,
   "metadata": {},
   "outputs": [],
   "source": [
    "def DotsCoordinates(n, k, a):\n",
    "    \n",
    "    '''\n",
    "    n - размерность пространства\n",
    "    k - количество точек\n",
    "    a - длина ребра гиперкуба\n",
    "    \n",
    "    Возвращает матрицу, в которой построчно записаны координаты точек\n",
    "    '''\n",
    "    \n",
    "    result = np.zeros((k,n))\n",
    "    for i in range(k):\n",
    "        result[i] = np.random.uniform(0,a,n)\n",
    "        \n",
    "    return result"
   ]
  },
  {
   "cell_type": "code",
   "execution_count": 23,
   "metadata": {},
   "outputs": [],
   "source": [
    "def EuclidMatrix(coord_matrix):\n",
    "    \n",
    "    '''\n",
    "    coord_matrix - матрица с координатами точек (ее возвращает DotsCoordinates)\n",
    "    \n",
    "    Возвращает матрицу, в ячейке [i,j] которой записано евклидово расстояние между i-й и j-й точками матрицы coord_matrix\n",
    "    '''\n",
    "    \n",
    "    result = np.zeros((len(coord_matrix), len(coord_matrix)))\n",
    "    for i in range(len(result)):\n",
    "        for j in range(len(result)):\n",
    "            result[i,j] = distance.euclidean(coord_matrix[i], coord_matrix[j])\n",
    "    return result"
   ]
  },
  {
   "cell_type": "code",
   "execution_count": 187,
   "metadata": {},
   "outputs": [],
   "source": [
    "matrix = DotsCoordinates(500, 500, 1)\n",
    "euc = EuclidMatrix(matrix)\n",
    "adj_matrix = np.zeros((len(matrix), len(matrix)))"
   ]
  },
  {
   "cell_type": "code",
   "execution_count": 192,
   "metadata": {
    "scrolled": false
   },
   "outputs": [
    {
     "name": "stdout",
     "output_type": "stream",
     "text": [
      "10.2384321168\n",
      "Граф стал связным при eps =  8.799999999999983\n"
     ]
    },
    {
     "data": {
      "image/png": "[encoded data removed]",
      "text/plain": [
       "<matplotlib.figure.Figure at 0x263a1b19c50>"
      ]
     },
     "metadata": {},
     "output_type": "display_data"
    }
   ],
   "source": [
    "eps = 4\n",
    "components_arr = np.array([])\n",
    "flag = False\n",
    "for i in range(80):\n",
    "    elems = list(zip(*np.where(euc < eps)))\n",
    "    adj_matrix = np.zeros((len(matrix), len(matrix)))\n",
    "    for j in range(len(elems)):\n",
    "        adj_matrix[elems[j][0]][elems[j][1]] = 1\n",
    "    components = csgraph.connected_components(adj_matrix)[0]\n",
    "    components_arr = np.append(components_arr, components)\n",
    "    if (components == 1 and flag == False):\n",
    "        print('Граф стал связным при eps = ', eps)\n",
    "        flag = True\n",
    "    eps += 0.1\n",
    "    \n",
    "X = np.arange(4, 12, 0.1)\n",
    "fig = plt.figure(figsize=(15,8))\n",
    "plt.plot(X, components_arr)\n",
    "plt.legend()\n",
    "plt.grid()\n",
    "plt.show()"
   ]
  },
  {
   "cell_type": "code",
   "execution_count": 165,
   "metadata": {},
   "outputs": [
    {
     "name": "stdout",
     "output_type": "stream",
     "text": [
      "0\n"
     ]
    }
   ],
   "source": [
    "print(len(num))"
   ]
  },
  {
   "cell_type": "code",
   "execution_count": null,
   "metadata": {},
   "outputs": [],
   "source": []
  }
 ],
 "metadata": {
  "kernelspec": {
   "display_name": "Python 3",
   "language": "python",
   "name": "python3"
  },
  "language_info": {
   "codemirror_mode": {
    "name": "ipython",
    "version": 3
   },
   "file_extension": ".py",
   "mimetype": "text/x-python",
   "name": "python",
   "nbconvert_exporter": "python",
   "pygments_lexer": "ipython3",
   "version": "3.6.3"
  }
 },
 "nbformat": 4,
 "nbformat_minor": 2
}
