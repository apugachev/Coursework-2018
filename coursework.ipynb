{
 "cells": [
  {
   "cell_type": "code",
   "execution_count": 188,
   "metadata": {},
   "outputs": [],
   "source": [
    "import numpy as np\n",
    "from scipy.spatial import distance\n",
    "import matplotlib.pyplot as plt\n",
    "from scipy.sparse import csgraph\n",
    "from tqdm import tqdm"
   ]
  },
  {
   "cell_type": "code",
   "execution_count": 20,
   "metadata": {},
   "outputs": [],
   "source": [
    "def DotsCoordinates(n, k, a):\n",
    "    \n",
    "    '''\n",
    "    n - размерность пространства\n",
    "    k - количество точек\n",
    "    a - длина ребра гиперкуба\n",
    "    \n",
    "    Возвращает матрицу, в которой построчно записаны координаты точек\n",
    "    '''\n",
    "    \n",
    "    result = np.zeros((k,n))\n",
    "    for i in range(k):\n",
    "        result[i] = np.random.uniform(0,a,n)\n",
    "        \n",
    "    return result"
   ]
  },
  {
   "cell_type": "code",
   "execution_count": 23,
   "metadata": {},
   "outputs": [],
   "source": [
    "def EuclidMatrix(coord_matrix):\n",
    "    \n",
    "    '''\n",
    "    coord_matrix - матрица с координатами точек (ее возвращает DotsCoordinates)\n",
    "    \n",
    "    Возвращает матрицу, в ячейке [i,j] которой записано евклидово расстояние между i-й и j-й точками матрицы coord_matrix\n",
    "    '''\n",
    "    \n",
    "    result = np.zeros((len(coord_matrix), len(coord_matrix)))\n",
    "    for i in range(len(result)):\n",
    "        for j in range(len(result)):\n",
    "            result[i,j] = distance.euclidean(coord_matrix[i], coord_matrix[j])\n",
    "            \n",
    "    return result"
   ]
  },
  {
   "cell_type": "code",
   "execution_count": 204,
   "metadata": {},
   "outputs": [],
   "source": [
    "def CreateAdjMatrix(euclid_matrix, eps):\n",
    "    \n",
    "    '''\n",
    "    euclid_matrix - матрица евклидовых расстояний между всеми точками пространства\n",
    "    eps - значение параметра epsilon\n",
    "    \n",
    "    Возвращает матрицу смежности графа, в котором i-й и j-й узлы соединены ребрами \n",
    "    если евклидовое расстояние между ними меньше epsilon\n",
    "    '''\n",
    "    \n",
    "    result = np.zeros((len(euclid_matrix), len(euclid_matrix)))\n",
    "    connected_dots = list(zip(*np.where(euclid_matrix < eps)))\n",
    "    for j in range(len(connected_dots)):\n",
    "        result[connected_dots[j][0]][connected_dots[j][1]] = 1\n",
    "        \n",
    "    return result\n",
    "    "
   ]
  },
  {
   "cell_type": "code",
   "execution_count": 216,
   "metadata": {},
   "outputs": [],
   "source": [
    "def ShowGraph(eps_min, eps_max, steps, euclid_matrix):\n",
    "    \n",
    "    '''\n",
    "    eps_min - минимальное значение eps\n",
    "    eps_max - максимальное значение eps\n",
    "    steps - количество итераций от eps_min до eps_max\n",
    "    euclid_matrix - матрица евклидовых расстояний между всеми точками пространства\n",
    "    \n",
    "    Возвращает график, на котором изображена зависимость количества кластеров от значения epsilon\n",
    "    '''\n",
    "    \n",
    "    components_num = np.array([])\n",
    "    flag = False\n",
    "    epsilons = np.arange(eps_min, eps_max, (eps_max - eps_min)/steps)\n",
    "    for i in range(steps):\n",
    "        adj_matrix = CreateAdjMatrix(euclid_matrix, epsilons[i])\n",
    "        components = csgraph.connected_components(csgraph=adj_matrix, directed=False, return_labels=False)\n",
    "        components_num = np.append(components_num, components)\n",
    "        if (components == 1 and flag == False):\n",
    "            print('Граф стал связным при eps = ', epsilons[i])\n",
    "            flag = True\n",
    "    \n",
    "    fig = plt.figure(figsize=(15,8))\n",
    "    plt.plot(epsilons, components_num)\n",
    "    plt.title('Зависимость количества кластеров от значения $\\epsilon$', size=15)\n",
    "    plt.ylabel('Количество кластеров', size=13)\n",
    "    plt.xlabel('Значение $\\epsilon$', size=13)\n",
    "    plt.legend()\n",
    "    plt.grid()\n",
    "    plt.show()\n",
    "    "
   ]
  },
  {
   "cell_type": "code",
   "execution_count": 220,
   "metadata": {},
   "outputs": [
    {
     "name": "stdout",
     "output_type": "stream",
     "text": [
      "Граф стал связным при eps =  8.734\n"
     ]
    },
    {
     "data": {
      "image/png": "[encoded data removed]",
      "text/plain": [
       "<matplotlib.figure.Figure at 0x2639ee52240>"
      ]
     },
     "metadata": {},
     "output_type": "display_data"
    }
   ],
   "source": [
    "matrix = DotsCoordinates(500, 500, 1)\n",
    "euc = EuclidMatrix(matrix)\n",
    "ShowGraph(8,9,1000,euc)"
   ]
  },
  {
   "cell_type": "code",
   "execution_count": 211,
   "metadata": {
    "scrolled": false
   },
   "outputs": [
    {
     "name": "stdout",
     "output_type": "stream",
     "text": [
      "Граф стал связным при eps =  8.739999999999899\n"
     ]
    },
    {
     "ename": "KeyboardInterrupt",
     "evalue": "",
     "output_type": "error",
     "traceback": [
      "\u001b[1;31m---------------------------------------------------------------------------\u001b[0m",
      "\u001b[1;31mKeyboardInterrupt\u001b[0m                         Traceback (most recent call last)",
      "\u001b[1;32m<ipython-input-211-54ac09593fa0>\u001b[0m in \u001b[0;36m<module>\u001b[1;34m()\u001b[0m\n\u001b[0;32m      3\u001b[0m \u001b[0mflag\u001b[0m \u001b[1;33m=\u001b[0m \u001b[1;32mFalse\u001b[0m\u001b[1;33m\u001b[0m\u001b[0m\n\u001b[0;32m      4\u001b[0m \u001b[1;32mfor\u001b[0m \u001b[0mi\u001b[0m \u001b[1;32min\u001b[0m \u001b[0mrange\u001b[0m\u001b[1;33m(\u001b[0m\u001b[1;36m800\u001b[0m\u001b[1;33m)\u001b[0m\u001b[1;33m:\u001b[0m\u001b[1;33m\u001b[0m\u001b[0m\n\u001b[1;32m----> 5\u001b[1;33m     \u001b[0madj_matrix\u001b[0m \u001b[1;33m=\u001b[0m \u001b[0mCreateAdjMatrix\u001b[0m\u001b[1;33m(\u001b[0m\u001b[0meuc\u001b[0m\u001b[1;33m,\u001b[0m \u001b[0meps\u001b[0m\u001b[1;33m)\u001b[0m\u001b[1;33m\u001b[0m\u001b[0m\n\u001b[0m\u001b[0;32m      6\u001b[0m     \u001b[0mcomponents\u001b[0m \u001b[1;33m=\u001b[0m \u001b[0mcsgraph\u001b[0m\u001b[1;33m.\u001b[0m\u001b[0mconnected_components\u001b[0m\u001b[1;33m(\u001b[0m\u001b[0mcsgraph\u001b[0m\u001b[1;33m=\u001b[0m\u001b[0madj_matrix\u001b[0m\u001b[1;33m,\u001b[0m \u001b[0mdirected\u001b[0m\u001b[1;33m=\u001b[0m\u001b[1;32mFalse\u001b[0m\u001b[1;33m,\u001b[0m \u001b[0mreturn_labels\u001b[0m\u001b[1;33m=\u001b[0m\u001b[1;32mFalse\u001b[0m\u001b[1;33m)\u001b[0m\u001b[1;33m\u001b[0m\u001b[0m\n\u001b[0;32m      7\u001b[0m     \u001b[0mcomponents_num\u001b[0m \u001b[1;33m=\u001b[0m \u001b[0mnp\u001b[0m\u001b[1;33m.\u001b[0m\u001b[0mappend\u001b[0m\u001b[1;33m(\u001b[0m\u001b[0mcomponents_num\u001b[0m\u001b[1;33m,\u001b[0m \u001b[0mcomponents\u001b[0m\u001b[1;33m)\u001b[0m\u001b[1;33m\u001b[0m\u001b[0m\n",
      "\u001b[1;32m<ipython-input-204-616a1d872d28>\u001b[0m in \u001b[0;36mCreateAdjMatrix\u001b[1;34m(euclid_matrix, eps)\u001b[0m\n\u001b[0;32m     11\u001b[0m     \u001b[0mresult\u001b[0m \u001b[1;33m=\u001b[0m \u001b[0mnp\u001b[0m\u001b[1;33m.\u001b[0m\u001b[0mzeros\u001b[0m\u001b[1;33m(\u001b[0m\u001b[1;33m(\u001b[0m\u001b[0mlen\u001b[0m\u001b[1;33m(\u001b[0m\u001b[0meuclid_matrix\u001b[0m\u001b[1;33m)\u001b[0m\u001b[1;33m,\u001b[0m \u001b[0mlen\u001b[0m\u001b[1;33m(\u001b[0m\u001b[0meuclid_matrix\u001b[0m\u001b[1;33m)\u001b[0m\u001b[1;33m)\u001b[0m\u001b[1;33m)\u001b[0m\u001b[1;33m\u001b[0m\u001b[0m\n\u001b[0;32m     12\u001b[0m     \u001b[0mconnected_dots\u001b[0m \u001b[1;33m=\u001b[0m \u001b[0mlist\u001b[0m\u001b[1;33m(\u001b[0m\u001b[0mzip\u001b[0m\u001b[1;33m(\u001b[0m\u001b[1;33m*\u001b[0m\u001b[0mnp\u001b[0m\u001b[1;33m.\u001b[0m\u001b[0mwhere\u001b[0m\u001b[1;33m(\u001b[0m\u001b[0meuclid_matrix\u001b[0m \u001b[1;33m<\u001b[0m \u001b[0meps\u001b[0m\u001b[1;33m)\u001b[0m\u001b[1;33m)\u001b[0m\u001b[1;33m)\u001b[0m\u001b[1;33m\u001b[0m\u001b[0m\n\u001b[1;32m---> 13\u001b[1;33m     \u001b[1;32mfor\u001b[0m \u001b[0mj\u001b[0m \u001b[1;32min\u001b[0m \u001b[0mrange\u001b[0m\u001b[1;33m(\u001b[0m\u001b[0mlen\u001b[0m\u001b[1;33m(\u001b[0m\u001b[0mconnected_dots\u001b[0m\u001b[1;33m)\u001b[0m\u001b[1;33m)\u001b[0m\u001b[1;33m:\u001b[0m\u001b[1;33m\u001b[0m\u001b[0m\n\u001b[0m\u001b[0;32m     14\u001b[0m         \u001b[0mresult\u001b[0m\u001b[1;33m[\u001b[0m\u001b[0mconnected_dots\u001b[0m\u001b[1;33m[\u001b[0m\u001b[0mj\u001b[0m\u001b[1;33m]\u001b[0m\u001b[1;33m[\u001b[0m\u001b[1;36m0\u001b[0m\u001b[1;33m]\u001b[0m\u001b[1;33m]\u001b[0m\u001b[1;33m[\u001b[0m\u001b[0mconnected_dots\u001b[0m\u001b[1;33m[\u001b[0m\u001b[0mj\u001b[0m\u001b[1;33m]\u001b[0m\u001b[1;33m[\u001b[0m\u001b[1;36m1\u001b[0m\u001b[1;33m]\u001b[0m\u001b[1;33m]\u001b[0m \u001b[1;33m=\u001b[0m \u001b[1;36m1\u001b[0m\u001b[1;33m\u001b[0m\u001b[0m\n\u001b[0;32m     15\u001b[0m     \u001b[1;32mreturn\u001b[0m \u001b[0mresult\u001b[0m\u001b[1;33m\u001b[0m\u001b[0m\n",
      "\u001b[1;31mKeyboardInterrupt\u001b[0m: "
     ]
    }
   ],
   "source": [
    "eps = 4\n",
    "components_num = np.array([])\n",
    "flag = False\n",
    "for i in range(800):\n",
    "    adj_matrix = CreateAdjMatrix(euc, eps)\n",
    "    components = csgraph.connected_components(csgraph=adj_matrix, directed=False, return_labels=False)\n",
    "    components_num = np.append(components_num, components)\n",
    "    if (components == 1 and flag == False):\n",
    "        print('Граф стал связным при eps = ', eps)\n",
    "        flag = True\n",
    "    eps += 0.01\n",
    "    \n",
    "X = np.arange(4, 12, 0.01)\n",
    "fig = plt.figure(figsize=(15,8))\n",
    "plt.plot(X, components_num)\n",
    "plt.title('Зависимость количества кластеров от значения $\\epsilon$', size=15)\n",
    "plt.ylabel('Количество кластеров', size=13)\n",
    "plt.xlabel('Значение $\\epsilon$', size=13)\n",
    "plt.legend()\n",
    "plt.grid()\n",
    "plt.show()"
   ]
  },
  {
   "cell_type": "code",
   "execution_count": null,
   "metadata": {},
   "outputs": [],
   "source": []
  }
 ],
 "metadata": {
  "kernelspec": {
   "display_name": "Python 3",
   "language": "python",
   "name": "python3"
  },
  "language_info": {
   "codemirror_mode": {
    "name": "ipython",
    "version": 3
   },
   "file_extension": ".py",
   "mimetype": "text/x-python",
   "name": "python",
   "nbconvert_exporter": "python",
   "pygments_lexer": "ipython3",
   "version": "3.6.3"
  }
 },
 "nbformat": 4,
 "nbformat_minor": 2
}
