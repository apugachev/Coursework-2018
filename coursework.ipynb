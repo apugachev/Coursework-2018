{
 "cells": [
  {
   "cell_type": "code",
   "execution_count": 253,
   "metadata": {},
   "outputs": [],
   "source": [
    "import numpy as np\n",
    "from scipy.spatial import distance\n",
    "import matplotlib.pyplot as plt\n",
    "from scipy.sparse import csgraph\n",
    "from tqdm import tqdm\n",
    "from matplotlib.backends.backend_pdf import PdfPages"
   ]
  },
  {
   "cell_type": "code",
   "execution_count": 20,
   "metadata": {},
   "outputs": [],
   "source": [
    "def DotsCoordinates(n, k, a):\n",
    "    \n",
    "    '''\n",
    "    n - размерность пространства\n",
    "    k - количество точек\n",
    "    a - длина ребра гиперкуба\n",
    "    \n",
    "    Возвращает матрицу, в которой построчно записаны координаты точек\n",
    "    '''\n",
    "    \n",
    "    result = np.zeros((k,n))\n",
    "    for i in range(k):\n",
    "        result[i] = np.random.uniform(0,a,n)\n",
    "        \n",
    "    return result"
   ]
  },
  {
   "cell_type": "code",
   "execution_count": 23,
   "metadata": {},
   "outputs": [],
   "source": [
    "def EuclidMatrix(coord_matrix):\n",
    "    \n",
    "    '''\n",
    "    coord_matrix - матрица с координатами точек (ее возвращает DotsCoordinates)\n",
    "    \n",
    "    Возвращает матрицу, в ячейке [i,j] которой записано евклидово расстояние между i-й и j-й точками матрицы coord_matrix\n",
    "    '''\n",
    "    \n",
    "    result = np.zeros((len(coord_matrix), len(coord_matrix)))\n",
    "    for i in range(len(result)):\n",
    "        for j in range(len(result)):\n",
    "            result[i,j] = distance.euclidean(coord_matrix[i], coord_matrix[j])\n",
    "            \n",
    "    return result"
   ]
  },
  {
   "cell_type": "code",
   "execution_count": 222,
   "metadata": {},
   "outputs": [],
   "source": [
    "def CreateAdjMatrix(euclid_matrix, eps):\n",
    "    \n",
    "    '''\n",
    "    euclid_matrix - матрица евклидовых расстояний между всеми точками пространства\n",
    "    eps - значение параметра epsilon\n",
    "    \n",
    "    Возвращает матрицу смежности графа, в котором i-й и j-й узлы соединены ребрами \n",
    "    если евклидовое расстояние между ними меньше epsilon\n",
    "    '''\n",
    "    \n",
    "    result = np.zeros((len(euclid_matrix), len(euclid_matrix)))\n",
    "    connected_dots = list(zip(*np.where(euclid_matrix <= eps)))\n",
    "    for j in range(len(connected_dots)):\n",
    "        result[connected_dots[j][0]][connected_dots[j][1]] = 1\n",
    "        \n",
    "    return result\n",
    "    "
   ]
  },
  {
   "cell_type": "code",
   "execution_count": 287,
   "metadata": {},
   "outputs": [],
   "source": [
    "def ShowGraph(eps_min, eps_max, steps, euclid_matrix):\n",
    "    \n",
    "    '''\n",
    "    eps_min - минимальное значение eps\n",
    "    eps_max - максимальное значение eps\n",
    "    steps - количество итераций от eps_min до eps_max\n",
    "    euclid_matrix - матрица евклидовых расстояний между всеми точками пространства\n",
    "    \n",
    "    Возвращает график, на котором изображена зависимость количества кластеров от значения epsilon\n",
    "    '''\n",
    "    \n",
    "    components_num = np.array([])\n",
    "    flag = False\n",
    "    epsilons = np.arange(eps_min, eps_max, (eps_max - eps_min)/steps)\n",
    "    for i in range(steps):\n",
    "        adj_matrix = CreateAdjMatrix(euclid_matrix, epsilons[i])\n",
    "        components = csgraph.connected_components(csgraph=adj_matrix, directed=False, return_labels=False)\n",
    "        components_num = np.append(components_num, components)\n",
    "        if (components == 1 and flag == False):\n",
    "            one_component_x = epsilons[i]\n",
    "            one_component_y = components\n",
    "            print('Граф стал связным при eps = ', one_component_x)\n",
    "            flag = True\n",
    "    \n",
    "    fig = plt.figure(figsize=(15,8))\n",
    "    plt.plot(epsilons, components_num)\n",
    "    plt.title('Зависимость количества кластеров от значения $\\epsilon$', size=15)\n",
    "    plt.ylabel('Количество кластеров', size=13)\n",
    "    plt.xlabel('Значение $\\epsilon$', size=13)\n",
    "    plt.scatter(one_component_x, one_component_y, c='red', marker='o')\n",
    "    plt.legend()\n",
    "    plt.grid()\n",
    "    pp = PdfPages('500x500.pdf')\n",
    "    pp.savefig(fig)\n",
    "    pp.close()\n",
    "    plt.show()\n",
    "    "
   ]
  },
  {
   "cell_type": "code",
   "execution_count": 289,
   "metadata": {},
   "outputs": [
    {
     "name": "stdout",
     "output_type": "stream",
     "text": [
      "Граф стал связным при eps =  8.826\n"
     ]
    },
    {
     "data": {
      "image/png": "[encoded data removed]",
      "text/plain": [
       "<matplotlib.figure.Figure at 0x2639f869f98>"
      ]
     },
     "metadata": {},
     "output_type": "display_data"
    }
   ],
   "source": [
    "matrix = DotsCoordinates(500, 500, 1)\n",
    "ShowGraph(8, 9, 5000, EuclidMatrix(matrix))"
   ]
  },
  {
   "cell_type": "code",
   "execution_count": null,
   "metadata": {},
   "outputs": [],
   "source": []
  }
 ],
 "metadata": {
  "kernelspec": {
   "display_name": "Python 3",
   "language": "python",
   "name": "python3"
  },
  "language_info": {
   "codemirror_mode": {
    "name": "ipython",
    "version": 3
   },
   "file_extension": ".py",
   "mimetype": "text/x-python",
   "name": "python",
   "nbconvert_exporter": "python",
   "pygments_lexer": "ipython3",
   "version": "3.6.3"
  }
 },
 "nbformat": 4,
 "nbformat_minor": 2
}
